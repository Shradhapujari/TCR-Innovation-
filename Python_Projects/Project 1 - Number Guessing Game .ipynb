{
 "cells": [
  {
   "cell_type": "markdown",
   "id": "f2313afe",
   "metadata": {},
   "source": [
    "# Author : Shradha Pujari\n",
    "## Project 1 : Number Guessing Game\n",
    "## TCR Innovation\n",
    "### Problem Statement -  Build a Number guessing game, in which the user selects a range. Let’s say User selected a range, i.e., from A to B, where A and B belong to integer. Some random integer will be selected by the system and the user has to guess that integer in the minimum number of guesses"
   ]
  },
  {
   "cell_type": "code",
   "execution_count": 3,
   "id": "b2d40a59",
   "metadata": {},
   "outputs": [
    {
     "name": "stdout",
     "output_type": "stream",
     "text": [
      "Enter Lower bound:- 1\n",
      "Enter Upper bound:- 100\n",
      "\n",
      "\tYou've only 7  chances to guess the integer!\n",
      "\n",
      "Guess a number:- 42\n",
      "You guessed too small!\n",
      "Guess a number:- 50\n",
      "You guessed too small!\n",
      "Guess a number:- 25\n",
      "You guessed too small!\n",
      "Guess a number:- 37\n",
      "You guessed too small!\n",
      "Guess a number:- 43\n",
      "You guessed too small!\n",
      "Guess a number:- 40\n",
      "You guessed too small!\n",
      "Guess a number:- 41\n",
      "You guessed too small!\n",
      "\n",
      "The number is 80\n",
      "\tBetter Luck Next time!\n"
     ]
    }
   ],
   "source": [
    "import random \n",
    "import math\n",
    "# Taking Inputs\n",
    "lower = int(input(\"Enter Lower bound:- \"))\n",
    "\n",
    "# Taking Inputs\n",
    "upper = int(input(\"Enter Upper bound:- \"))\n",
    "\n",
    "# generating random number between\n",
    "# the lower and upper\n",
    "x = random.randint(lower, upper)\n",
    "print(\"\\n\\tYou've only\",\n",
    "    round(math.log(upper - lower + 1, 2)),\n",
    "    \" chances to guess the integer!\\n\")\n",
    "\n",
    "# Initializing the number of guesses.\n",
    "count = 0\n",
    "\n",
    "# for calculation of minimum number of\n",
    "# guesses depends upon range\n",
    "while count < math.log(upper - lower + 1, 2):\n",
    "    count += 1\n",
    "\n",
    "    # taking guessing number as input\n",
    "    guess = int(input(\"Guess a number:- \"))\n",
    "\n",
    "    # Condition testing\n",
    "    if x == guess:\n",
    "        print(\"Congratulations you did it in \",\n",
    "            count, \" try\")\n",
    "        # Once guessed, loop will break\n",
    "        break\n",
    "    elif x > guess:\n",
    "        print(\"You guessed too small!\")\n",
    "    elif x < guess:\n",
    "        print(\"You Guessed too high!\")\n",
    "\n",
    "# If Guessing is more than required guesses,\n",
    "# shows this output.\n",
    "if count >= math.log(upper - lower + 1, 2):\n",
    "    print(\"\\nThe number is %d\" % x)\n",
    "    print(\"\\tBetter Luck Next time!\")\n"
   ]
  },
  {
   "cell_type": "markdown",
   "id": "1a86555f",
   "metadata": {},
   "source": []
  },
  {
   "cell_type": "markdown",
   "id": "9e9e966f",
   "metadata": {},
   "source": [
    "# Thank you!"
   ]
  }
 ],
 "metadata": {
  "kernelspec": {
   "display_name": "Python 3",
   "language": "python",
   "name": "python3"
  },
  "language_info": {
   "codemirror_mode": {
    "name": "ipython",
    "version": 3
   },
   "file_extension": ".py",
   "mimetype": "text/x-python",
   "name": "python",
   "nbconvert_exporter": "python",
   "pygments_lexer": "ipython3",
   "version": "3.8.8"
  }
 },
 "nbformat": 4,
 "nbformat_minor": 5
}
